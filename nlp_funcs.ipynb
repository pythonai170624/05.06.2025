{
 "cells": [
  {
   "cell_type": "code",
   "execution_count": 1,
   "id": "0f729ff9-76af-4dec-b39e-0bf67ebdc14f",
   "metadata": {},
   "outputs": [
    {
     "name": "stdout",
     "output_type": "stream",
     "text": [
      "Taylor Swift PERSON\n",
      "Los Angeles GPE\n",
      "March 3rd, 2023 DATE\n"
     ]
    }
   ],
   "source": [
    "import spacy\n",
    "\n",
    "nlp = spacy.load(\"en_core_web_sm\")\n",
    "text = \"Taylor Swift performed in Los Angeles on March 3rd, 2023.\"\n",
    "doc = nlp(text)\n",
    "\n",
    "# Print all named entities along with their labels\n",
    "\n",
    "for ent in doc.ents:\n",
    "    print(ent.text, ent.label_)\n"
   ]
  },
  {
   "cell_type": "code",
   "execution_count": 2,
   "id": "91202d8b-4f3c-40dc-bd7d-451dab3de1c0",
   "metadata": {},
   "outputs": [
    {
     "name": "stdout",
     "output_type": "stream",
     "text": [
      "Serena Williams\n",
      "Tom Hanks\n"
     ]
    }
   ],
   "source": [
    "import spacy\n",
    "\n",
    "nlp = spacy.load(\"en_core_web_sm\")\n",
    "text = \"Serena Williams had dinner with Tom Hanks in Paris.\"\n",
    "doc = nlp(text)\n",
    "\n",
    "# prints only the entities of type PERSON\n",
    "\n",
    "for ent in doc.ents:\n",
    "    if ent.label_ == \"PERSON\":\n",
    "        print(ent.text)\n"
   ]
  },
  {
   "cell_type": "code",
   "execution_count": 3,
   "id": "3968e520-7480-43a4-a147-d1ed438c9296",
   "metadata": {},
   "outputs": [
    {
     "name": "stdout",
     "output_type": "stream",
     "text": [
      "She        ➝ she\n",
      "was        ➝ be\n",
      "running    ➝ run\n",
      "and        ➝ and\n",
      "had        ➝ have\n",
      "run        ➝ run\n",
      "5          ➝ 5\n",
      "kilometers ➝ kilometer\n",
      "by         ➝ by\n",
      "7          ➝ 7\n",
      "am         ➝ am\n",
      ".          ➝ .\n"
     ]
    }
   ],
   "source": [
    "import spacy\n",
    "\n",
    "nlp = spacy.load(\"en_core_web_sm\")\n",
    "text = \"She was running and had run 5 kilometers by 7am.\"\n",
    "doc = nlp(text)\n",
    "\n",
    "# Print each word with its lemma\n",
    "\n",
    "for token in doc:\n",
    "    print(f\"{token.text:10} ➝ {token.lemma_}\")\n"
   ]
  },
  {
   "cell_type": "code",
   "execution_count": 4,
   "id": "d2c05b5d-6378-4bcb-bcd1-e3cae942014c",
   "metadata": {},
   "outputs": [
    {
     "name": "stdout",
     "output_type": "stream",
     "text": [
      "['example', 'sentence', 'stop', 'words', '.']\n"
     ]
    }
   ],
   "source": [
    "import spacy\n",
    "\n",
    "nlp = spacy.load(\"en_core_web_sm\")\n",
    "text = \"This is an example sentence with some stop words.\"\n",
    "doc = nlp(text)\n",
    "\n",
    "# create a list of words that are not stop words\n",
    "\n",
    "filtered_words = [token.text for token in doc if not token.is_stop]\n",
    "print(filtered_words)\n"
   ]
  },
  {
   "cell_type": "code",
   "execution_count": 5,
   "id": "b0c8689e-b31f-400e-bd1b-39882a780b08",
   "metadata": {},
   "outputs": [
    {
     "name": "stdout",
     "output_type": "stream",
     "text": [
      "['is', 'and', 'powerful']\n"
     ]
    }
   ],
   "source": [
    "import spacy\n",
    "\n",
    "nlp = spacy.load(\"en_core_web_sm\")\n",
    "\n",
    "# Mark the word \"powerful\" as a stop word\n",
    "\n",
    "# Add custom stop word\n",
    "nlp.vocab[\"powerful\"].is_stop = True\n",
    "\n",
    "text = \"SpaCy is awesome and powerful.\"\n",
    "doc = nlp(text)\n",
    "\n",
    "stop_words = [token.text for token in doc if token.is_stop]\n",
    "print(stop_words)\n"
   ]
  },
  {
   "cell_type": "code",
   "execution_count": 6,
   "id": "3d4897fb-2e2e-4197-bb20-f6cb793d7fc8",
   "metadata": {},
   "outputs": [
    {
     "name": "stdout",
     "output_type": "stream",
     "text": [
      "Artificial Intelligence\n",
      "artificial intelligence\n"
     ]
    }
   ],
   "source": [
    "import spacy\n",
    "from spacy.matcher import PhraseMatcher\n",
    "\n",
    "nlp = spacy.load(\"en_core_web_sm\")\n",
    "matcher = PhraseMatcher(nlp.vocab)\n",
    "\n",
    "# Use PhraseMatcher to identify the phrase \"artificial intelligence\" in a sentence and print matches\n",
    "\n",
    "phrase = [\"artificial intelligence\", \"Artificial Intelligence\"]\n",
    "patterns = [nlp(text) for text in phrase]\n",
    "matcher.add(\"AI_PHRASE\", patterns)\n",
    "\n",
    "text = \"Artificial Intelligence is the future. I study artificial intelligence.\"\n",
    "doc = nlp(text)\n",
    "\n",
    "matches = matcher(doc)\n",
    "for match_id, start, end in matches:\n",
    "    print(doc[start:end].text)\n"
   ]
  },
  {
   "cell_type": "code",
   "execution_count": 7,
   "id": "e027e42f-6f65-423a-a137-b4218784220e",
   "metadata": {},
   "outputs": [
    {
     "name": "stdout",
     "output_type": "stream",
     "text": [
      "The        DET        determiner\n",
      "cat        NOUN       noun\n",
      "sat        VERB       verb\n",
      "on         ADP        adposition\n",
      "the        DET        determiner\n",
      "mat        NOUN       noun\n",
      ".          PUNCT      punctuation\n"
     ]
    },
    {
     "data": {
      "text/plain": [
       "'\\nThe DET determiner  - a word that introduces a noun and specifies it: the, a, an\\ncat NOUN noun       - a person, place, thing, or idea: cat, dog, table\\nsat VERB verb       - an action or state word: sat, eat, sleep\\non ADP adposition   - a word showing relationship between words, like time or location: on, in, under\\nthe DET determiner  - same as above: the, a, an\\nmat NOUN noun       - another thing or object: mat, rug, chair\\n. PUNCT punctuation - punctuation mark ending the sentence: period, comma, etc.\\n'"
      ]
     },
     "execution_count": 7,
     "metadata": {},
     "output_type": "execute_result"
    }
   ],
   "source": [
    "import spacy\n",
    "\n",
    "#  print each word in a sentence with its POS tag and a human-readable explanation\n",
    "nlp = spacy.load(\"en_core_web_sm\")\n",
    "text = \"The cat sat on the mat.\"\n",
    "doc = nlp(text)\n",
    "\n",
    "for token in doc:\n",
    "    print(f\"{token.text:10} {token.pos_:10} {spacy.explain(token.pos_)}\")\n",
    "\n",
    "'''\n",
    "The DET determiner  - a word that introduces a noun and specifies it: the, a, an\n",
    "cat NOUN noun       - a person, place, thing, or idea: cat, dog, table\n",
    "sat VERB verb       - an action or state word: sat, eat, sleep\n",
    "on ADP adposition   - a word showing relationship between words, like time or location: on, in, under\n",
    "the DET determiner  - same as above: the, a, an\n",
    "mat NOUN noun       - another thing or object: mat, rug, chair\n",
    ". PUNCT punctuation - punctuation mark ending the sentence: period, comma, etc.\n",
    "'''"
   ]
  },
  {
   "cell_type": "code",
   "execution_count": 8,
   "id": "ee012ef6-370c-4249-94f4-13e52a2144ce",
   "metadata": {},
   "outputs": [
    {
     "name": "stdout",
     "output_type": "stream",
     "text": [
      "['tok2vec', 'tagger', 'custom_separator', 'parser', 'attribute_ruler', 'lemmatizer', 'ner']\n",
      "SpaCy is great ^\n",
      "It helps with NLP tasks ^\n",
      "Really useful.\n"
     ]
    }
   ],
   "source": [
    "import spacy\n",
    "from spacy.language import Language\n",
    "\n",
    "nlp = spacy.load(\"en_core_web_sm\")\n",
    "\n",
    "# ^ as a custom sentence separator \n",
    "\n",
    "@Language.component(\"custom_separator\")\n",
    "def custom_separator(doc):\n",
    "    for token in doc[:-1]:\n",
    "        if token.text == '^':\n",
    "            doc[token.i + 1].is_sent_start = True\n",
    "    return doc\n",
    "\n",
    "nlp.add_pipe('custom_separator', before='parser')\n",
    "print(nlp.pipe_names)\n",
    "\n",
    "text = \"SpaCy is great ^ It helps with NLP tasks ^ Really useful.\"\n",
    "\n",
    "doc = nlp(text)\n",
    "\n",
    "for sent in doc.sents:\n",
    "    print(sent)\n"
   ]
  },
  {
   "cell_type": "code",
   "execution_count": 9,
   "id": "e1355e4f-5f0c-4bd7-96c3-b9b1ea3177af",
   "metadata": {},
   "outputs": [
    {
     "name": "stdin",
     "output_type": "stream",
     "text": [
      "Enter a sentence:  the pilot flew the airplane above Israel\n"
     ]
    },
    {
     "name": "stdout",
     "output_type": "stream",
     "text": [
      "the        DET        determiner\n",
      "pilot      NOUN       noun\n",
      "flew       VERB       verb\n",
      "the        DET        determiner\n",
      "airplane   NOUN       noun\n",
      "above      ADP        adposition\n",
      "Israel     PROPN      proper noun\n"
     ]
    },
    {
     "data": {
      "text/html": [
       "<span class=\"tex2jax_ignore\"><svg xmlns=\"http://www.w3.org/2000/svg\" xmlns:xlink=\"http://www.w3.org/1999/xlink\" xml:lang=\"en\" id=\"a96c6415ef9b4a67a036b5389605fedf-0\" class=\"displacy\" width=\"1275\" height=\"312.0\" direction=\"ltr\" style=\"max-width: none; height: 312.0px; color: #000000; background: #ffffff; font-family: Arial; direction: ltr\">\n",
       "<text class=\"displacy-token\" fill=\"currentColor\" text-anchor=\"middle\" y=\"222.0\">\n",
       "    <tspan class=\"displacy-word\" fill=\"currentColor\" x=\"50\">the</tspan>\n",
       "    <tspan class=\"displacy-tag\" dy=\"2em\" fill=\"currentColor\" x=\"50\">DET</tspan>\n",
       "</text>\n",
       "\n",
       "<text class=\"displacy-token\" fill=\"currentColor\" text-anchor=\"middle\" y=\"222.0\">\n",
       "    <tspan class=\"displacy-word\" fill=\"currentColor\" x=\"225\">pilot</tspan>\n",
       "    <tspan class=\"displacy-tag\" dy=\"2em\" fill=\"currentColor\" x=\"225\">NOUN</tspan>\n",
       "</text>\n",
       "\n",
       "<text class=\"displacy-token\" fill=\"currentColor\" text-anchor=\"middle\" y=\"222.0\">\n",
       "    <tspan class=\"displacy-word\" fill=\"currentColor\" x=\"400\">flew</tspan>\n",
       "    <tspan class=\"displacy-tag\" dy=\"2em\" fill=\"currentColor\" x=\"400\">VERB</tspan>\n",
       "</text>\n",
       "\n",
       "<text class=\"displacy-token\" fill=\"currentColor\" text-anchor=\"middle\" y=\"222.0\">\n",
       "    <tspan class=\"displacy-word\" fill=\"currentColor\" x=\"575\">the</tspan>\n",
       "    <tspan class=\"displacy-tag\" dy=\"2em\" fill=\"currentColor\" x=\"575\">DET</tspan>\n",
       "</text>\n",
       "\n",
       "<text class=\"displacy-token\" fill=\"currentColor\" text-anchor=\"middle\" y=\"222.0\">\n",
       "    <tspan class=\"displacy-word\" fill=\"currentColor\" x=\"750\">airplane</tspan>\n",
       "    <tspan class=\"displacy-tag\" dy=\"2em\" fill=\"currentColor\" x=\"750\">NOUN</tspan>\n",
       "</text>\n",
       "\n",
       "<text class=\"displacy-token\" fill=\"currentColor\" text-anchor=\"middle\" y=\"222.0\">\n",
       "    <tspan class=\"displacy-word\" fill=\"currentColor\" x=\"925\">above</tspan>\n",
       "    <tspan class=\"displacy-tag\" dy=\"2em\" fill=\"currentColor\" x=\"925\">ADP</tspan>\n",
       "</text>\n",
       "\n",
       "<text class=\"displacy-token\" fill=\"currentColor\" text-anchor=\"middle\" y=\"222.0\">\n",
       "    <tspan class=\"displacy-word\" fill=\"currentColor\" x=\"1100\">Israel</tspan>\n",
       "    <tspan class=\"displacy-tag\" dy=\"2em\" fill=\"currentColor\" x=\"1100\">PROPN</tspan>\n",
       "</text>\n",
       "\n",
       "<g class=\"displacy-arrow\">\n",
       "    <path class=\"displacy-arc\" id=\"arrow-a96c6415ef9b4a67a036b5389605fedf-0-0\" stroke-width=\"2px\" d=\"M70,177.0 C70,89.5 220.0,89.5 220.0,177.0\" fill=\"none\" stroke=\"currentColor\"/>\n",
       "    <text dy=\"1.25em\" style=\"font-size: 0.8em; letter-spacing: 1px\">\n",
       "        <textPath xlink:href=\"#arrow-a96c6415ef9b4a67a036b5389605fedf-0-0\" class=\"displacy-label\" startOffset=\"50%\" side=\"left\" fill=\"currentColor\" text-anchor=\"middle\">det</textPath>\n",
       "    </text>\n",
       "    <path class=\"displacy-arrowhead\" d=\"M70,179.0 L62,167.0 78,167.0\" fill=\"currentColor\"/>\n",
       "</g>\n",
       "\n",
       "<g class=\"displacy-arrow\">\n",
       "    <path class=\"displacy-arc\" id=\"arrow-a96c6415ef9b4a67a036b5389605fedf-0-1\" stroke-width=\"2px\" d=\"M245,177.0 C245,89.5 395.0,89.5 395.0,177.0\" fill=\"none\" stroke=\"currentColor\"/>\n",
       "    <text dy=\"1.25em\" style=\"font-size: 0.8em; letter-spacing: 1px\">\n",
       "        <textPath xlink:href=\"#arrow-a96c6415ef9b4a67a036b5389605fedf-0-1\" class=\"displacy-label\" startOffset=\"50%\" side=\"left\" fill=\"currentColor\" text-anchor=\"middle\">nsubj</textPath>\n",
       "    </text>\n",
       "    <path class=\"displacy-arrowhead\" d=\"M245,179.0 L237,167.0 253,167.0\" fill=\"currentColor\"/>\n",
       "</g>\n",
       "\n",
       "<g class=\"displacy-arrow\">\n",
       "    <path class=\"displacy-arc\" id=\"arrow-a96c6415ef9b4a67a036b5389605fedf-0-2\" stroke-width=\"2px\" d=\"M595,177.0 C595,89.5 745.0,89.5 745.0,177.0\" fill=\"none\" stroke=\"currentColor\"/>\n",
       "    <text dy=\"1.25em\" style=\"font-size: 0.8em; letter-spacing: 1px\">\n",
       "        <textPath xlink:href=\"#arrow-a96c6415ef9b4a67a036b5389605fedf-0-2\" class=\"displacy-label\" startOffset=\"50%\" side=\"left\" fill=\"currentColor\" text-anchor=\"middle\">det</textPath>\n",
       "    </text>\n",
       "    <path class=\"displacy-arrowhead\" d=\"M595,179.0 L587,167.0 603,167.0\" fill=\"currentColor\"/>\n",
       "</g>\n",
       "\n",
       "<g class=\"displacy-arrow\">\n",
       "    <path class=\"displacy-arc\" id=\"arrow-a96c6415ef9b4a67a036b5389605fedf-0-3\" stroke-width=\"2px\" d=\"M420,177.0 C420,2.0 750.0,2.0 750.0,177.0\" fill=\"none\" stroke=\"currentColor\"/>\n",
       "    <text dy=\"1.25em\" style=\"font-size: 0.8em; letter-spacing: 1px\">\n",
       "        <textPath xlink:href=\"#arrow-a96c6415ef9b4a67a036b5389605fedf-0-3\" class=\"displacy-label\" startOffset=\"50%\" side=\"left\" fill=\"currentColor\" text-anchor=\"middle\">dobj</textPath>\n",
       "    </text>\n",
       "    <path class=\"displacy-arrowhead\" d=\"M750.0,179.0 L758.0,167.0 742.0,167.0\" fill=\"currentColor\"/>\n",
       "</g>\n",
       "\n",
       "<g class=\"displacy-arrow\">\n",
       "    <path class=\"displacy-arc\" id=\"arrow-a96c6415ef9b4a67a036b5389605fedf-0-4\" stroke-width=\"2px\" d=\"M770,177.0 C770,89.5 920.0,89.5 920.0,177.0\" fill=\"none\" stroke=\"currentColor\"/>\n",
       "    <text dy=\"1.25em\" style=\"font-size: 0.8em; letter-spacing: 1px\">\n",
       "        <textPath xlink:href=\"#arrow-a96c6415ef9b4a67a036b5389605fedf-0-4\" class=\"displacy-label\" startOffset=\"50%\" side=\"left\" fill=\"currentColor\" text-anchor=\"middle\">prep</textPath>\n",
       "    </text>\n",
       "    <path class=\"displacy-arrowhead\" d=\"M920.0,179.0 L928.0,167.0 912.0,167.0\" fill=\"currentColor\"/>\n",
       "</g>\n",
       "\n",
       "<g class=\"displacy-arrow\">\n",
       "    <path class=\"displacy-arc\" id=\"arrow-a96c6415ef9b4a67a036b5389605fedf-0-5\" stroke-width=\"2px\" d=\"M945,177.0 C945,89.5 1095.0,89.5 1095.0,177.0\" fill=\"none\" stroke=\"currentColor\"/>\n",
       "    <text dy=\"1.25em\" style=\"font-size: 0.8em; letter-spacing: 1px\">\n",
       "        <textPath xlink:href=\"#arrow-a96c6415ef9b4a67a036b5389605fedf-0-5\" class=\"displacy-label\" startOffset=\"50%\" side=\"left\" fill=\"currentColor\" text-anchor=\"middle\">pobj</textPath>\n",
       "    </text>\n",
       "    <path class=\"displacy-arrowhead\" d=\"M1095.0,179.0 L1103.0,167.0 1087.0,167.0\" fill=\"currentColor\"/>\n",
       "</g>\n",
       "</svg></span>"
      ],
      "text/plain": [
       "<IPython.core.display.HTML object>"
      ]
     },
     "metadata": {},
     "output_type": "display_data"
    }
   ],
   "source": [
    "import spacy\n",
    "from spacy import displacy\n",
    "\n",
    "# Ask the user to input a sentence using input(), print each word with its POS tag, and then display it using spacy.displacy.render\n",
    "\n",
    "nlp = spacy.load(\"en_core_web_sm\")\n",
    "sentence = input(\"Enter a sentence: \")\n",
    "doc = nlp(sentence)\n",
    "\n",
    "for token in doc:\n",
    "    print(f\"{token.text:10} {token.pos_:10} {spacy.explain(token.pos_)}\")\n",
    "\n",
    "# Display visualization in Jupyter\n",
    "displacy.render(doc, style=\"dep\", jupyter=True)\n"
   ]
  }
 ],
 "metadata": {
  "kernelspec": {
   "display_name": "Python (spacy_env_2)",
   "language": "python",
   "name": "spacy_env_2"
  },
  "language_info": {
   "codemirror_mode": {
    "name": "ipython",
    "version": 3
   },
   "file_extension": ".py",
   "mimetype": "text/x-python",
   "name": "python",
   "nbconvert_exporter": "python",
   "pygments_lexer": "ipython3",
   "version": "3.11.7"
  }
 },
 "nbformat": 4,
 "nbformat_minor": 5
}
